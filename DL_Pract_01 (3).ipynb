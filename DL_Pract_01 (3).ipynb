{
 "cells": [
  {
   "cell_type": "code",
   "execution_count": 1,
   "id": "20aa777e",
   "metadata": {},
   "outputs": [],
   "source": [
    "import numpy as np\n",
    "import pandas as pd\n",
    "import seaborn as sns\n",
    "import matplotlib.pyplot as plt\n",
    "from sklearn.datasets import load_boston\n",
    "from sklearn.model_selection import train_test_split\n",
    "from sklearn.preprocessing import StandardScaler\n",
    "import tensorflow as tf "
   ]
  },
  {
   "cell_type": "code",
   "execution_count": 1,
   "id": "a53e70ac",
   "metadata": {},
   "outputs": [
    {
     "name": "stdout",
     "output_type": "stream",
     "text": [
      "Collecting scikit-learn==1.0.2\n",
      "  Downloading scikit_learn-1.0.2-cp39-cp39-win_amd64.whl (7.2 MB)\n",
      "     ---------------------------------------- 7.2/7.2 MB 518.3 kB/s eta 0:00:00\n",
      "Collecting joblib>=0.11\n",
      "  Downloading joblib-1.4.0-py3-none-any.whl (301 kB)\n",
      "     -------------------------------------- 301.2/301.2 kB 1.0 MB/s eta 0:00:00\n",
      "Collecting numpy>=1.14.6\n",
      "  Using cached numpy-1.26.4-cp39-cp39-win_amd64.whl (15.8 MB)\n",
      "Collecting threadpoolctl>=2.0.0\n",
      "  Downloading threadpoolctl-3.5.0-py3-none-any.whl (18 kB)\n",
      "Collecting scipy>=1.1.0\n",
      "  Downloading scipy-1.13.0-cp39-cp39-win_amd64.whl (46.2 MB)\n",
      "     ---------------------------------------- 46.2/46.2 MB 4.0 MB/s eta 0:00:00\n",
      "Installing collected packages: threadpoolctl, numpy, joblib, scipy, scikit-learn\n",
      "  Attempting uninstall: threadpoolctl\n",
      "    Found existing installation: threadpoolctl 2.2.0\n",
      "    Uninstalling threadpoolctl-2.2.0:\n",
      "      Successfully uninstalled threadpoolctl-2.2.0\n",
      "  Attempting uninstall: numpy\n",
      "    Found existing installation: numpy 1.21.5\n",
      "    Can't uninstall 'numpy'. No files were found to uninstall.\n",
      "  Attempting uninstall: joblib\n",
      "    Found existing installation: joblib 1.3.1\n",
      "    Uninstalling joblib-1.3.1:\n",
      "      Successfully uninstalled joblib-1.3.1\n",
      "  Attempting uninstall: scipy\n",
      "    Found existing installation: scipy 1.9.1\n",
      "    Uninstalling scipy-1.9.1:\n",
      "      Successfully uninstalled scipy-1.9.1\n",
      "  Attempting uninstall: scikit-learn\n",
      "    Found existing installation: scikit-learn 1.3.1\n",
      "    Uninstalling scikit-learn-1.3.1:\n",
      "      Successfully uninstalled scikit-learn-1.3.1\n",
      "Successfully installed joblib-1.4.0 numpy-1.26.4 scikit-learn-1.0.2 scipy-1.13.0 threadpoolctl-3.5.0\n",
      "Note: you may need to restart the kernel to use updated packages.\n"
     ]
    },
    {
     "name": "stderr",
     "output_type": "stream",
     "text": [
      "WARNING: Error parsing requirements for pygments: [Errno 2] No such file or directory: 'c:\\\\users\\\\admin\\\\anaconda3\\\\lib\\\\site-packages\\\\Pygments-2.11.2.dist-info\\\\METADATA'\n",
      "WARNING: Error parsing requirements for numpy: [Errno 2] No such file or directory: 'c:\\\\users\\\\admin\\\\anaconda3\\\\lib\\\\site-packages\\\\numpy-1.21.5.dist-info\\\\METADATA'\n",
      "    WARNING: No metadata found in c:\\users\\admin\\anaconda3\\lib\\site-packages\n",
      "ERROR: pip's dependency resolver does not currently take into account all the packages that are installed. This behaviour is the source of the following dependency conflicts.\n",
      "daal4py 2021.6.0 requires daal==2021.4.0, which is not installed.\n",
      "numba 0.55.1 requires numpy<1.22,>=1.18, but you have numpy 1.26.4 which is incompatible.\n"
     ]
    }
   ],
   "source": [
    "pip install --force-reinstall \"scikit-learn==1.0.2\""
   ]
  },
  {
   "cell_type": "code",
   "execution_count": 5,
   "id": "e60d3621",
   "metadata": {},
   "outputs": [
    {
     "name": "stdout",
     "output_type": "stream",
     "text": [
      "Requirement already satisfied: tensorflow==2.14.0 in c:\\users\\admin\\anaconda3\\lib\\site-packages (2.14.0)\n",
      "Requirement already satisfied: tensorflow-intel==2.14.0 in c:\\users\\admin\\anaconda3\\lib\\site-packages (from tensorflow==2.14.0) (2.14.0)\n",
      "Requirement already satisfied: packaging in c:\\users\\admin\\anaconda3\\lib\\site-packages (from tensorflow-intel==2.14.0->tensorflow==2.14.0) (21.3)\n",
      "Requirement already satisfied: grpcio<2.0,>=1.24.3 in c:\\users\\admin\\anaconda3\\lib\\site-packages (from tensorflow-intel==2.14.0->tensorflow==2.14.0) (1.62.2)\n",
      "Requirement already satisfied: protobuf!=4.21.0,!=4.21.1,!=4.21.2,!=4.21.3,!=4.21.4,!=4.21.5,<5.0.0dev,>=3.20.3 in c:\\users\\admin\\anaconda3\\lib\\site-packages (from tensorflow-intel==2.14.0->tensorflow==2.14.0) (4.25.3)\n",
      "Requirement already satisfied: tensorflow-io-gcs-filesystem>=0.23.1 in c:\\users\\admin\\anaconda3\\lib\\site-packages (from tensorflow-intel==2.14.0->tensorflow==2.14.0) (0.31.0)\n",
      "Requirement already satisfied: wrapt<1.15,>=1.11.0 in c:\\users\\admin\\anaconda3\\lib\\site-packages (from tensorflow-intel==2.14.0->tensorflow==2.14.0) (1.14.1)\n",
      "Requirement already satisfied: absl-py>=1.0.0 in c:\\users\\admin\\anaconda3\\lib\\site-packages (from tensorflow-intel==2.14.0->tensorflow==2.14.0) (2.1.0)\n",
      "Requirement already satisfied: gast!=0.5.0,!=0.5.1,!=0.5.2,>=0.2.1 in c:\\users\\admin\\anaconda3\\lib\\site-packages (from tensorflow-intel==2.14.0->tensorflow==2.14.0) (0.5.4)\n",
      "Requirement already satisfied: ml-dtypes==0.2.0 in c:\\users\\admin\\anaconda3\\lib\\site-packages (from tensorflow-intel==2.14.0->tensorflow==2.14.0) (0.2.0)\n",
      "Requirement already satisfied: setuptools in c:\\users\\admin\\anaconda3\\lib\\site-packages (from tensorflow-intel==2.14.0->tensorflow==2.14.0) (63.4.1)\n",
      "Requirement already satisfied: numpy>=1.23.5 in c:\\users\\admin\\anaconda3\\lib\\site-packages (from tensorflow-intel==2.14.0->tensorflow==2.14.0) (1.26.4)\n",
      "Requirement already satisfied: google-pasta>=0.1.1 in c:\\users\\admin\\anaconda3\\lib\\site-packages (from tensorflow-intel==2.14.0->tensorflow==2.14.0) (0.2.0)\n",
      "Requirement already satisfied: h5py>=2.9.0 in c:\\users\\admin\\anaconda3\\lib\\site-packages (from tensorflow-intel==2.14.0->tensorflow==2.14.0) (3.7.0)\n",
      "Requirement already satisfied: keras<2.15,>=2.14.0 in c:\\users\\admin\\anaconda3\\lib\\site-packages (from tensorflow-intel==2.14.0->tensorflow==2.14.0) (2.14.0)\n",
      "Requirement already satisfied: tensorboard<2.15,>=2.14 in c:\\users\\admin\\anaconda3\\lib\\site-packages (from tensorflow-intel==2.14.0->tensorflow==2.14.0) (2.14.1)\n",
      "Requirement already satisfied: tensorflow-estimator<2.15,>=2.14.0 in c:\\users\\admin\\anaconda3\\lib\\site-packages (from tensorflow-intel==2.14.0->tensorflow==2.14.0) (2.14.0)\n",
      "Requirement already satisfied: flatbuffers>=23.5.26 in c:\\users\\admin\\anaconda3\\lib\\site-packages (from tensorflow-intel==2.14.0->tensorflow==2.14.0) (24.3.25)\n",
      "Requirement already satisfied: opt-einsum>=2.3.2 in c:\\users\\admin\\anaconda3\\lib\\site-packages (from tensorflow-intel==2.14.0->tensorflow==2.14.0) (3.3.0)\n",
      "Requirement already satisfied: astunparse>=1.6.0 in c:\\users\\admin\\anaconda3\\lib\\site-packages (from tensorflow-intel==2.14.0->tensorflow==2.14.0) (1.6.3)\n",
      "Requirement already satisfied: libclang>=13.0.0 in c:\\users\\admin\\anaconda3\\lib\\site-packages (from tensorflow-intel==2.14.0->tensorflow==2.14.0) (18.1.1)\n",
      "Requirement already satisfied: six>=1.12.0 in c:\\users\\admin\\anaconda3\\lib\\site-packages (from tensorflow-intel==2.14.0->tensorflow==2.14.0) (1.16.0)\n",
      "Requirement already satisfied: termcolor>=1.1.0 in c:\\users\\admin\\anaconda3\\lib\\site-packages (from tensorflow-intel==2.14.0->tensorflow==2.14.0) (2.4.0)\n",
      "Requirement already satisfied: typing-extensions>=3.6.6 in c:\\users\\admin\\anaconda3\\lib\\site-packages (from tensorflow-intel==2.14.0->tensorflow==2.14.0) (4.3.0)\n",
      "Requirement already satisfied: wheel<1.0,>=0.23.0 in c:\\users\\admin\\anaconda3\\lib\\site-packages (from astunparse>=1.6.0->tensorflow-intel==2.14.0->tensorflow==2.14.0) (0.37.1)\n",
      "Requirement already satisfied: requests<3,>=2.21.0 in c:\\users\\admin\\anaconda3\\lib\\site-packages (from tensorboard<2.15,>=2.14->tensorflow-intel==2.14.0->tensorflow==2.14.0) (2.28.1)\n",
      "Requirement already satisfied: werkzeug>=1.0.1 in c:\\users\\admin\\anaconda3\\lib\\site-packages (from tensorboard<2.15,>=2.14->tensorflow-intel==2.14.0->tensorflow==2.14.0) (2.0.3)\n",
      "Requirement already satisfied: google-auth<3,>=1.6.3 in c:\\users\\admin\\anaconda3\\lib\\site-packages (from tensorboard<2.15,>=2.14->tensorflow-intel==2.14.0->tensorflow==2.14.0) (2.29.0)\n",
      "Requirement already satisfied: tensorboard-data-server<0.8.0,>=0.7.0 in c:\\users\\admin\\anaconda3\\lib\\site-packages (from tensorboard<2.15,>=2.14->tensorflow-intel==2.14.0->tensorflow==2.14.0) (0.7.2)\n",
      "Requirement already satisfied: google-auth-oauthlib<1.1,>=0.5 in c:\\users\\admin\\anaconda3\\lib\\site-packages (from tensorboard<2.15,>=2.14->tensorflow-intel==2.14.0->tensorflow==2.14.0) (1.0.0)\n",
      "Requirement already satisfied: markdown>=2.6.8 in c:\\users\\admin\\anaconda3\\lib\\site-packages (from tensorboard<2.15,>=2.14->tensorflow-intel==2.14.0->tensorflow==2.14.0) (3.3.4)\n",
      "Requirement already satisfied: pyparsing!=3.0.5,>=2.0.2 in c:\\users\\admin\\anaconda3\\lib\\site-packages (from packaging->tensorflow-intel==2.14.0->tensorflow==2.14.0) (3.0.9)\n",
      "Requirement already satisfied: pyasn1-modules>=0.2.1 in c:\\users\\admin\\anaconda3\\lib\\site-packages (from google-auth<3,>=1.6.3->tensorboard<2.15,>=2.14->tensorflow-intel==2.14.0->tensorflow==2.14.0) (0.2.8)\n",
      "Requirement already satisfied: rsa<5,>=3.1.4 in c:\\users\\admin\\anaconda3\\lib\\site-packages (from google-auth<3,>=1.6.3->tensorboard<2.15,>=2.14->tensorflow-intel==2.14.0->tensorflow==2.14.0) (4.9)\n",
      "Requirement already satisfied: cachetools<6.0,>=2.0.0 in c:\\users\\admin\\anaconda3\\lib\\site-packages (from google-auth<3,>=1.6.3->tensorboard<2.15,>=2.14->tensorflow-intel==2.14.0->tensorflow==2.14.0) (5.3.3)\n",
      "Requirement already satisfied: requests-oauthlib>=0.7.0 in c:\\users\\admin\\anaconda3\\lib\\site-packages (from google-auth-oauthlib<1.1,>=0.5->tensorboard<2.15,>=2.14->tensorflow-intel==2.14.0->tensorflow==2.14.0) (2.0.0)\n",
      "Requirement already satisfied: certifi>=2017.4.17 in c:\\users\\admin\\anaconda3\\lib\\site-packages (from requests<3,>=2.21.0->tensorboard<2.15,>=2.14->tensorflow-intel==2.14.0->tensorflow==2.14.0) (2022.9.14)\n",
      "Requirement already satisfied: charset-normalizer<3,>=2 in c:\\users\\admin\\anaconda3\\lib\\site-packages (from requests<3,>=2.21.0->tensorboard<2.15,>=2.14->tensorflow-intel==2.14.0->tensorflow==2.14.0) (2.0.4)\n",
      "Requirement already satisfied: urllib3<1.27,>=1.21.1 in c:\\users\\admin\\anaconda3\\lib\\site-packages (from requests<3,>=2.21.0->tensorboard<2.15,>=2.14->tensorflow-intel==2.14.0->tensorflow==2.14.0) (1.26.11)\n",
      "Requirement already satisfied: idna<4,>=2.5 in c:\\users\\admin\\anaconda3\\lib\\site-packages (from requests<3,>=2.21.0->tensorboard<2.15,>=2.14->tensorflow-intel==2.14.0->tensorflow==2.14.0) (3.3)\n",
      "Requirement already satisfied: pyasn1<0.5.0,>=0.4.6 in c:\\users\\admin\\anaconda3\\lib\\site-packages (from pyasn1-modules>=0.2.1->google-auth<3,>=1.6.3->tensorboard<2.15,>=2.14->tensorflow-intel==2.14.0->tensorflow==2.14.0) (0.4.8)\n",
      "Requirement already satisfied: oauthlib>=3.0.0 in c:\\users\\admin\\anaconda3\\lib\\site-packages (from requests-oauthlib>=0.7.0->google-auth-oauthlib<1.1,>=0.5->tensorboard<2.15,>=2.14->tensorflow-intel==2.14.0->tensorflow==2.14.0) (3.2.2)\n"
     ]
    }
   ],
   "source": [
    "!pip install tensorflow==2.14.0"
   ]
  },
  {
   "cell_type": "code",
   "execution_count": 2,
   "id": "6c776bc1",
   "metadata": {},
   "outputs": [
    {
     "name": "stderr",
     "output_type": "stream",
     "text": [
      "C:\\Users\\ADMIN\\anaconda3\\lib\\site-packages\\sklearn\\utils\\deprecation.py:87: FutureWarning: Function load_boston is deprecated; `load_boston` is deprecated in 1.0 and will be removed in 1.2.\n",
      "\n",
      "    The Boston housing prices dataset has an ethical problem. You can refer to\n",
      "    the documentation of this function for further details.\n",
      "\n",
      "    The scikit-learn maintainers therefore strongly discourage the use of this\n",
      "    dataset unless the purpose of the code is to study and educate about\n",
      "    ethical issues in data science and machine learning.\n",
      "\n",
      "    In this special case, you can fetch the dataset from the original\n",
      "    source::\n",
      "\n",
      "        import pandas as pd\n",
      "        import numpy as np\n",
      "\n",
      "\n",
      "        data_url = \"http://lib.stat.cmu.edu/datasets/boston\"\n",
      "        raw_df = pd.read_csv(data_url, sep=\"\\s+\", skiprows=22, header=None)\n",
      "        data = np.hstack([raw_df.values[::2, :], raw_df.values[1::2, :2]])\n",
      "        target = raw_df.values[1::2, 2]\n",
      "\n",
      "    Alternative datasets include the California housing dataset (i.e.\n",
      "    :func:`~sklearn.datasets.fetch_california_housing`) and the Ames housing\n",
      "    dataset. You can load the datasets as follows::\n",
      "\n",
      "        from sklearn.datasets import fetch_california_housing\n",
      "        housing = fetch_california_housing()\n",
      "\n",
      "    for the California housing dataset and::\n",
      "\n",
      "        from sklearn.datasets import fetch_openml\n",
      "        housing = fetch_openml(name=\"house_prices\", as_frame=True)\n",
      "\n",
      "    for the Ames housing dataset.\n",
      "    \n",
      "  warnings.warn(msg, category=FutureWarning)\n"
     ]
    }
   ],
   "source": [
    "# Load the Boston Housing dataset\n",
    "boston = load_boston()\n",
    "data = pd.DataFrame(boston.data, columns=boston.feature_names)\n",
    "data['PRICE'] = boston.target\n",
    "# Split the data into training and testing sets\n",
    "X_train, X_test, y_train, y_test = train_test_split(data.iloc[:, :-1], data.iloc[:, -1], test_size=0.2, random_state=42)"
   ]
  },
  {
   "cell_type": "code",
   "execution_count": 3,
   "id": "510f682e",
   "metadata": {},
   "outputs": [],
   "source": [
    "# Scale the data\n",
    "scaler = StandardScaler()\n",
    "X_train = scaler.fit_transform(X_train)\n",
    "X_test = scaler.transform(X_test)"
   ]
  },
  {
   "cell_type": "code",
   "execution_count": 4,
   "id": "5cf29ec4",
   "metadata": {},
   "outputs": [],
   "source": [
    "# Define the model\n",
    "model = tf.keras.models.Sequential([\n",
    "    tf.keras.layers.Dense(64, activation='relu', input_shape=(X_train.shape[1],)),\n",
    "    tf.keras.layers.Dense(32, activation='relu'),\n",
    "    tf.keras.layers.Dense(1)\n",
    "])\n",
    "\n",
    "# Compile the model\n",
    "model.compile(optimizer='adam', loss='mse')"
   ]
  },
  {
   "cell_type": "code",
   "execution_count": 5,
   "id": "6fa5993a",
   "metadata": {},
   "outputs": [
    {
     "name": "stdout",
     "output_type": "stream",
     "text": [
      "Epoch 1/100\n",
      "11/11 [==============================] - 2s 33ms/step - loss: 600.1631 - val_loss: 523.3556\n",
      "Epoch 2/100\n",
      "11/11 [==============================] - 0s 9ms/step - loss: 567.6284 - val_loss: 490.9579\n",
      "Epoch 3/100\n",
      "11/11 [==============================] - 0s 10ms/step - loss: 529.8518 - val_loss: 452.2562\n",
      "Epoch 4/100\n",
      "11/11 [==============================] - 0s 12ms/step - loss: 485.2440 - val_loss: 403.9630\n",
      "Epoch 5/100\n",
      "11/11 [==============================] - 0s 10ms/step - loss: 428.5387 - val_loss: 345.7099\n",
      "Epoch 6/100\n",
      "11/11 [==============================] - 0s 13ms/step - loss: 359.8477 - val_loss: 277.5464\n",
      "Epoch 7/100\n",
      "11/11 [==============================] - 0s 9ms/step - loss: 282.4674 - val_loss: 205.7857\n",
      "Epoch 8/100\n",
      "11/11 [==============================] - 0s 12ms/step - loss: 205.0256 - val_loss: 140.6066\n",
      "Epoch 9/100\n",
      "11/11 [==============================] - 0s 12ms/step - loss: 139.6425 - val_loss: 90.2674\n",
      "Epoch 10/100\n",
      "11/11 [==============================] - 0s 8ms/step - loss: 94.8349 - val_loss: 61.3427\n",
      "Epoch 11/100\n",
      "11/11 [==============================] - 0s 9ms/step - loss: 72.2905 - val_loss: 47.4108\n",
      "Epoch 12/100\n",
      "11/11 [==============================] - 0s 12ms/step - loss: 57.6761 - val_loss: 39.2166\n",
      "Epoch 13/100\n",
      "11/11 [==============================] - 0s 10ms/step - loss: 46.8181 - val_loss: 33.8415\n",
      "Epoch 14/100\n",
      "11/11 [==============================] - 0s 13ms/step - loss: 38.8007 - val_loss: 30.6342\n",
      "Epoch 15/100\n",
      "11/11 [==============================] - 0s 9ms/step - loss: 32.9044 - val_loss: 28.6150\n",
      "Epoch 16/100\n",
      "11/11 [==============================] - 0s 9ms/step - loss: 29.0772 - val_loss: 27.3532\n",
      "Epoch 17/100\n",
      "11/11 [==============================] - 0s 12ms/step - loss: 26.7522 - val_loss: 26.8417\n",
      "Epoch 18/100\n",
      "11/11 [==============================] - 0s 8ms/step - loss: 25.1708 - val_loss: 26.2028\n",
      "Epoch 19/100\n",
      "11/11 [==============================] - 0s 10ms/step - loss: 24.0038 - val_loss: 25.9314\n",
      "Epoch 20/100\n",
      "11/11 [==============================] - 0s 10ms/step - loss: 23.0042 - val_loss: 25.5046\n",
      "Epoch 21/100\n",
      "11/11 [==============================] - 0s 10ms/step - loss: 22.1454 - val_loss: 24.9392\n",
      "Epoch 22/100\n",
      "11/11 [==============================] - 0s 12ms/step - loss: 21.4277 - val_loss: 24.6912\n",
      "Epoch 23/100\n",
      "11/11 [==============================] - 0s 10ms/step - loss: 20.7265 - val_loss: 24.2815\n",
      "Epoch 24/100\n",
      "11/11 [==============================] - 0s 12ms/step - loss: 20.0905 - val_loss: 23.8627\n",
      "Epoch 25/100\n",
      "11/11 [==============================] - 0s 12ms/step - loss: 19.5748 - val_loss: 23.8325\n",
      "Epoch 26/100\n",
      "11/11 [==============================] - 0s 11ms/step - loss: 19.0532 - val_loss: 23.3757\n",
      "Epoch 27/100\n",
      "11/11 [==============================] - 0s 14ms/step - loss: 18.5356 - val_loss: 22.8902\n",
      "Epoch 28/100\n",
      "11/11 [==============================] - 0s 15ms/step - loss: 18.1081 - val_loss: 22.4060\n",
      "Epoch 29/100\n",
      "11/11 [==============================] - 0s 13ms/step - loss: 17.6567 - val_loss: 22.0946\n",
      "Epoch 30/100\n",
      "11/11 [==============================] - 0s 15ms/step - loss: 17.2197 - val_loss: 22.0581\n",
      "Epoch 31/100\n",
      "11/11 [==============================] - 0s 13ms/step - loss: 16.8322 - val_loss: 21.5708\n",
      "Epoch 32/100\n",
      "11/11 [==============================] - 0s 12ms/step - loss: 16.5131 - val_loss: 21.2972\n",
      "Epoch 33/100\n",
      "11/11 [==============================] - 0s 10ms/step - loss: 16.1719 - val_loss: 20.7795\n",
      "Epoch 34/100\n",
      "11/11 [==============================] - 0s 10ms/step - loss: 15.8743 - val_loss: 20.6016\n",
      "Epoch 35/100\n",
      "11/11 [==============================] - 0s 12ms/step - loss: 15.5572 - val_loss: 20.6369\n",
      "Epoch 36/100\n",
      "11/11 [==============================] - 0s 10ms/step - loss: 15.2630 - val_loss: 20.3012\n",
      "Epoch 37/100\n",
      "11/11 [==============================] - 0s 9ms/step - loss: 14.9935 - val_loss: 20.1120\n",
      "Epoch 38/100\n",
      "11/11 [==============================] - 0s 11ms/step - loss: 14.7270 - val_loss: 19.9850\n",
      "Epoch 39/100\n",
      "11/11 [==============================] - 0s 9ms/step - loss: 14.4593 - val_loss: 19.8240\n",
      "Epoch 40/100\n",
      "11/11 [==============================] - 0s 10ms/step - loss: 14.1786 - val_loss: 19.5510\n",
      "Epoch 41/100\n",
      "11/11 [==============================] - 0s 12ms/step - loss: 13.9722 - val_loss: 19.4888\n",
      "Epoch 42/100\n",
      "11/11 [==============================] - 0s 15ms/step - loss: 13.7146 - val_loss: 19.3625\n",
      "Epoch 43/100\n",
      "11/11 [==============================] - 0s 12ms/step - loss: 13.8918 - val_loss: 20.0125\n",
      "Epoch 44/100\n",
      "11/11 [==============================] - 0s 24ms/step - loss: 13.8612 - val_loss: 19.5792\n",
      "Epoch 45/100\n",
      "11/11 [==============================] - 0s 15ms/step - loss: 13.7385 - val_loss: 19.3483\n",
      "Epoch 46/100\n",
      "11/11 [==============================] - 0s 11ms/step - loss: 13.4256 - val_loss: 18.9996\n",
      "Epoch 47/100\n",
      "11/11 [==============================] - 0s 17ms/step - loss: 13.0126 - val_loss: 18.6678\n",
      "Epoch 48/100\n",
      "11/11 [==============================] - 0s 15ms/step - loss: 12.9193 - val_loss: 18.8830\n",
      "Epoch 49/100\n",
      "11/11 [==============================] - 0s 16ms/step - loss: 12.6711 - val_loss: 18.3665\n",
      "Epoch 50/100\n",
      "11/11 [==============================] - 0s 13ms/step - loss: 12.4913 - val_loss: 18.2240\n",
      "Epoch 51/100\n",
      "11/11 [==============================] - 0s 12ms/step - loss: 12.5083 - val_loss: 19.1571\n",
      "Epoch 52/100\n",
      "11/11 [==============================] - 0s 10ms/step - loss: 12.6197 - val_loss: 19.0903\n",
      "Epoch 53/100\n",
      "11/11 [==============================] - 0s 16ms/step - loss: 12.5060 - val_loss: 19.0491\n",
      "Epoch 54/100\n",
      "11/11 [==============================] - 0s 10ms/step - loss: 12.1914 - val_loss: 18.6200\n",
      "Epoch 55/100\n",
      "11/11 [==============================] - 0s 11ms/step - loss: 11.9400 - val_loss: 17.9472\n",
      "Epoch 56/100\n",
      "11/11 [==============================] - 0s 9ms/step - loss: 11.8194 - val_loss: 17.5749\n",
      "Epoch 57/100\n",
      "11/11 [==============================] - 0s 9ms/step - loss: 11.5047 - val_loss: 17.5616\n",
      "Epoch 58/100\n",
      "11/11 [==============================] - 0s 10ms/step - loss: 11.4926 - val_loss: 17.3592\n",
      "Epoch 59/100\n",
      "11/11 [==============================] - 0s 12ms/step - loss: 11.2808 - val_loss: 17.0646\n",
      "Epoch 60/100\n",
      "11/11 [==============================] - 0s 11ms/step - loss: 11.1998 - val_loss: 16.7585\n",
      "Epoch 61/100\n",
      "11/11 [==============================] - 0s 19ms/step - loss: 11.0640 - val_loss: 16.7207\n",
      "Epoch 62/100\n",
      "11/11 [==============================] - 0s 16ms/step - loss: 11.1028 - val_loss: 16.7420\n",
      "Epoch 63/100\n",
      "11/11 [==============================] - 0s 12ms/step - loss: 10.9619 - val_loss: 16.4466\n",
      "Epoch 64/100\n",
      "11/11 [==============================] - 0s 10ms/step - loss: 10.8041 - val_loss: 16.2520\n",
      "Epoch 65/100\n",
      "11/11 [==============================] - 0s 10ms/step - loss: 10.6476 - val_loss: 16.3744\n",
      "Epoch 66/100\n",
      "11/11 [==============================] - 0s 12ms/step - loss: 10.5655 - val_loss: 16.0661\n",
      "Epoch 67/100\n",
      "11/11 [==============================] - 0s 11ms/step - loss: 10.5201 - val_loss: 16.1047\n",
      "Epoch 68/100\n",
      "11/11 [==============================] - 0s 12ms/step - loss: 10.4198 - val_loss: 16.0424\n",
      "Epoch 69/100\n",
      "11/11 [==============================] - 0s 11ms/step - loss: 10.3138 - val_loss: 15.8117\n",
      "Epoch 70/100\n",
      "11/11 [==============================] - 0s 12ms/step - loss: 10.2371 - val_loss: 15.7493\n",
      "Epoch 71/100\n",
      "11/11 [==============================] - 0s 16ms/step - loss: 10.1789 - val_loss: 16.1336\n",
      "Epoch 72/100\n",
      "11/11 [==============================] - 0s 15ms/step - loss: 10.1290 - val_loss: 15.8475\n",
      "Epoch 73/100\n",
      "11/11 [==============================] - 0s 9ms/step - loss: 9.9891 - val_loss: 15.6392\n",
      "Epoch 74/100\n",
      "11/11 [==============================] - 0s 9ms/step - loss: 10.0162 - val_loss: 15.8204\n",
      "Epoch 75/100\n",
      "11/11 [==============================] - 0s 9ms/step - loss: 9.9116 - val_loss: 15.4059\n",
      "Epoch 76/100\n",
      "11/11 [==============================] - 0s 8ms/step - loss: 9.8230 - val_loss: 15.2370\n",
      "Epoch 77/100\n",
      "11/11 [==============================] - 0s 9ms/step - loss: 9.8393 - val_loss: 15.4950\n",
      "Epoch 78/100\n",
      "11/11 [==============================] - 0s 11ms/step - loss: 9.7444 - val_loss: 15.4688\n",
      "Epoch 79/100\n",
      "11/11 [==============================] - 0s 8ms/step - loss: 9.6630 - val_loss: 15.7283\n",
      "Epoch 80/100\n",
      "11/11 [==============================] - 0s 8ms/step - loss: 9.5029 - val_loss: 15.4349\n",
      "Epoch 81/100\n",
      "11/11 [==============================] - 0s 9ms/step - loss: 9.4745 - val_loss: 15.3682\n",
      "Epoch 82/100\n",
      "11/11 [==============================] - 0s 9ms/step - loss: 9.4455 - val_loss: 15.3971\n",
      "Epoch 83/100\n",
      "11/11 [==============================] - 0s 8ms/step - loss: 9.3921 - val_loss: 15.4930\n",
      "Epoch 84/100\n",
      "11/11 [==============================] - 0s 9ms/step - loss: 9.2775 - val_loss: 15.2282\n",
      "Epoch 85/100\n",
      "11/11 [==============================] - 0s 9ms/step - loss: 9.2214 - val_loss: 14.6123\n",
      "Epoch 86/100\n",
      "11/11 [==============================] - 0s 8ms/step - loss: 9.2504 - val_loss: 14.1486\n",
      "Epoch 87/100\n",
      "11/11 [==============================] - 0s 9ms/step - loss: 9.1099 - val_loss: 14.5615\n",
      "Epoch 88/100\n",
      "11/11 [==============================] - 0s 8ms/step - loss: 9.0378 - val_loss: 14.4213\n",
      "Epoch 89/100\n",
      "11/11 [==============================] - 0s 8ms/step - loss: 8.9675 - val_loss: 14.4712\n",
      "Epoch 90/100\n",
      "11/11 [==============================] - 0s 8ms/step - loss: 8.9204 - val_loss: 14.3929\n",
      "Epoch 91/100\n",
      "11/11 [==============================] - 0s 8ms/step - loss: 8.8577 - val_loss: 14.5253\n",
      "Epoch 92/100\n",
      "11/11 [==============================] - 0s 9ms/step - loss: 8.7794 - val_loss: 14.2299\n",
      "Epoch 93/100\n",
      "11/11 [==============================] - 0s 8ms/step - loss: 8.8010 - val_loss: 14.2414\n",
      "Epoch 94/100\n",
      "11/11 [==============================] - 0s 9ms/step - loss: 8.7976 - val_loss: 14.8435\n",
      "Epoch 95/100\n",
      "11/11 [==============================] - 0s 8ms/step - loss: 8.8010 - val_loss: 14.3065\n",
      "Epoch 96/100\n",
      "11/11 [==============================] - 0s 8ms/step - loss: 8.6099 - val_loss: 14.0427\n",
      "Epoch 97/100\n",
      "11/11 [==============================] - 0s 8ms/step - loss: 8.8223 - val_loss: 13.8684\n",
      "Epoch 98/100\n",
      "11/11 [==============================] - 0s 8ms/step - loss: 8.8213 - val_loss: 13.8503\n",
      "Epoch 99/100\n",
      "11/11 [==============================] - 0s 8ms/step - loss: 8.6266 - val_loss: 14.4354\n",
      "Epoch 100/100\n",
      "11/11 [==============================] - 0s 8ms/step - loss: 8.4713 - val_loss: 13.9729\n"
     ]
    }
   ],
   "source": [
    "# Train the model\n",
    "history = model.fit(X_train, y_train, epochs=100, batch_size=32, validation_split=0.2)"
   ]
  },
  {
   "cell_type": "code",
   "execution_count": 6,
   "id": "e4a5e195",
   "metadata": {},
   "outputs": [
    {
     "name": "stdout",
     "output_type": "stream",
     "text": [
      "4/4 [==============================] - 0s 4ms/step - loss: 12.3205\n"
     ]
    },
    {
     "data": {
      "text/plain": [
       "12.320472717285156"
      ]
     },
     "execution_count": 6,
     "metadata": {},
     "output_type": "execute_result"
    }
   ],
   "source": [
    "# Evaluate the model\n",
    "model.evaluate(X_test, y_test)"
   ]
  },
  {
   "cell_type": "code",
   "execution_count": 7,
   "id": "2dd721c9",
   "metadata": {},
   "outputs": [
    {
     "data": {
      "image/png": "[encoded data removed]",
      "text/plain": [
       "<Figure size 640x480 with 1 Axes>"
      ]
     },
     "metadata": {},
     "output_type": "display_data"
    }
   ],
   "source": [
    "# Visualize the training history\n",
    "loss = history.history['loss']\n",
    "val_loss = history.history['val_loss']\n",
    "epochs = range(1, len(loss) + 1)\n",
    "\n",
    "plt.plot(epochs, loss, 'bo', label='Training loss')\n",
    "plt.plot(epochs, val_loss, 'b', label='Validation loss')\n",
    "plt.title('Training and validation loss')\n",
    "plt.xlabel('Epochs')\n",
    "plt.ylabel('Loss')\n",
    "plt.legend()\n",
    "plt.show()\n"
   ]
  },
  {
   "cell_type": "code",
   "execution_count": 8,
   "id": "31e8141f",
   "metadata": {},
   "outputs": [
    {
     "name": "stdout",
     "output_type": "stream",
     "text": [
      "4/4 [==============================] - 0s 3ms/step\n"
     ]
    },
    {
     "data": {
      "image/png": "[encoded data removed]",
      "text/plain": [
       "<Figure size 640x480 with 1 Axes>"
      ]
     },
     "metadata": {},
     "output_type": "display_data"
    }
   ],
   "source": [
    "# Visualize the linear regression graph\n",
    "y_pred = model.predict(X_test)\n",
    "\n",
    "plt.scatter(y_test, y_pred)\n",
    "plt.plot([0, 50], [0, 50], '--k')\n",
    "plt.axis('tight')\n",
    "plt.xlabel('True price ($1000s)')\n",
    "plt.ylabel('Predicted price ($1000s)')\n",
    "plt.show()"
   ]
  },
  {
   "cell_type": "code",
   "execution_count": null,
   "id": "ee139b75",
   "metadata": {},
   "outputs": [],
   "source": []
  }
 ],
 "metadata": {
  "kernelspec": {
   "display_name": "Python 3 (ipykernel)",
   "language": "python",
   "name": "python3"
  },
  "language_info": {
   "codemirror_mode": {
    "name": "ipython",
    "version": 3
   },
   "file_extension": ".py",
   "mimetype": "text/x-python",
   "name": "python",
   "nbconvert_exporter": "python",
   "pygments_lexer": "ipython3",
   "version": "3.9.13"
  }
 },
 "nbformat": 4,
 "nbformat_minor": 5
}
